{
  "nbformat": 4,
  "nbformat_minor": 0,
  "metadata": {
    "colab": {
      "provenance": [],
      "authorship_tag": "ABX9TyNJkr1+H78khRDmvwJ4hceS",
      "include_colab_link": true
    },
    "kernelspec": {
      "name": "python3",
      "display_name": "Python 3"
    },
    "language_info": {
      "name": "python"
    },
    "gpuClass": "standard"
  },
  "cells": [
    {
      "cell_type": "markdown",
      "metadata": {
        "id": "view-in-github",
        "colab_type": "text"
      },
      "source": [
        "<a href=\"https://colab.research.google.com/github/AAhmadS/NLP_HW1/blob/main/NLP_HW1.ipynb\" target=\"_parent\"><img src=\"https://colab.research.google.com/assets/colab-badge.svg\" alt=\"Open In Colab\"/></a>"
      ]
    },
    {
      "cell_type": "markdown",
      "source": [
        "#Natural Language Processing-Homework1"
      ],
      "metadata": {
        "id": "NvVmtJhaLMx_"
      }
    },
    {
      "cell_type": "markdown",
      "source": [
        "####**Student name** : Amirahmad Shafiee<br/>**Student number** : 99104027<br/>**Chosen task** : NER\n",
        "In this notebook we aim to do common but rather essential preprocess actions on some text chosen from the persian literature world. After doing so, a usual NLP task would be operated on the processed text."
      ],
      "metadata": {
        "id": "5OI-kp96Jgs7"
      }
    },
    {
      "cell_type": "code",
      "source": [
        "# mount Google Drive\n",
        "from google.colab import drive\n",
        "drive.mount('/content/gdrive')"
      ],
      "metadata": {
        "colab": {
          "base_uri": "https://localhost:8080/"
        },
        "id": "aVCuqcZ0MmIi",
        "outputId": "318ea555-7a5b-4a70-ac04-31d71bfc0b11"
      },
      "execution_count": 1,
      "outputs": [
        {
          "output_type": "stream",
          "name": "stdout",
          "text": [
            "Mounted at /content/gdrive\n"
          ]
        }
      ]
    },
    {
      "cell_type": "code",
      "source": [
        "%cd /content/gdrive/MyDrive/NLP"
      ],
      "metadata": {
        "colab": {
          "base_uri": "https://localhost:8080/"
        },
        "id": "z3kFSCcFM7j6",
        "outputId": "2ba1b4bc-7a3d-4749-d063-45a23ecea2d3"
      },
      "execution_count": 2,
      "outputs": [
        {
          "output_type": "stream",
          "name": "stdout",
          "text": [
            "[Errno 2] No such file or directory: '/content/gdrive/MyDrive/NLP'\n",
            "/content\n"
          ]
        }
      ]
    },
    {
      "cell_type": "markdown",
      "source": [
        "##Section A: Extracting data\n",
        "\n"
      ],
      "metadata": {
        "id": "5_smO9LWLc3R"
      }
    },
    {
      "cell_type": "code",
      "execution_count": null,
      "metadata": {
        "id": "QFNFUXwSIW54"
      },
      "outputs": [],
      "source": []
    }
  ]
}